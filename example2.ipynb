{
  "nbformat": 4,
  "nbformat_minor": 0,
  "metadata": {
    "colab": {
      "name": "example2.ipynb",
      "version": "0.3.2",
      "provenance": [],
      "collapsed_sections": [],
      "include_colab_link": true
    },
    "kernelspec": {
      "name": "python2",
      "display_name": "Python 2"
    }
  },
  "cells": [
    {
      "cell_type": "markdown",
      "metadata": {
        "id": "view-in-github",
        "colab_type": "text"
      },
      "source": [
        "<a href=\"https://colab.research.google.com/github/mathew22/tensorflow-tutorial/blob/master/example2.ipynb\" target=\"_parent\"><img src=\"https://colab.research.google.com/assets/colab-badge.svg\" alt=\"Open In Colab\"/></a>"
      ]
    },
    {
      "metadata": {
        "id": "ZGWhLCjP9hP9",
        "colab_type": "text"
      },
      "cell_type": "markdown",
      "source": [
        "Example showing  loading array to placeholder"
      ]
    },
    {
      "metadata": {
        "id": "GFHoko4c9WgL",
        "colab_type": "code",
        "colab": {}
      },
      "cell_type": "code",
      "source": [
        "import tensorflow as tf\n",
        "import numpy as np"
      ],
      "execution_count": 0,
      "outputs": []
    },
    {
      "metadata": {
        "id": "usvTWGO69bSv",
        "colab_type": "code",
        "colab": {
          "base_uri": "https://localhost:8080/",
          "height": 91
        },
        "outputId": "118316d6-369e-4518-b25e-122b22d66efc"
      },
      "cell_type": "code",
      "source": [
        "const = tf.constant(2.0, name='const')\n",
        "\n",
        "b = tf.placeholder( tf.float32, [ None, 1 ], name='b' )\n",
        "c = tf.Variable( 3.0, name='c' )\n",
        "\n",
        "d = tf.add( b, c, name=\"d\" )\n",
        "e = tf.add( c, const, name=\"e\" )\n",
        "\n",
        "f = tf.multiply( d, e , name=\"f\")\n",
        "\n",
        "\n",
        "init_op = tf.global_variables_initializer()\n"
      ],
      "execution_count": 4,
      "outputs": [
        {
          "output_type": "stream",
          "text": [
            "WARNING:tensorflow:From /usr/local/lib/python2.7/dist-packages/tensorflow/python/framework/op_def_library.py:263: colocate_with (from tensorflow.python.framework.ops) is deprecated and will be removed in a future version.\n",
            "Instructions for updating:\n",
            "Colocations handled automatically by placer.\n"
          ],
          "name": "stdout"
        }
      ]
    },
    {
      "metadata": {
        "id": "fgD_4E2d9d6-",
        "colab_type": "code",
        "colab": {
          "base_uri": "https://localhost:8080/",
          "height": 197
        },
        "outputId": "346dcc41-8047-4ab6-d619-dfd22bd1b3d6"
      },
      "cell_type": "code",
      "source": [
        "with tf.Session() as sess:\n",
        "    \n",
        "    sess.run( init_op )\n",
        "    \n",
        "    out = sess.run( f, {b:np.arange(0, 10 )[:,np.newaxis]} )\n",
        "    \n",
        "    print( \"variable f is {}\".format( out ))\n"
      ],
      "execution_count": 5,
      "outputs": [
        {
          "output_type": "stream",
          "text": [
            "variable f is [[15.]\n",
            " [20.]\n",
            " [25.]\n",
            " [30.]\n",
            " [35.]\n",
            " [40.]\n",
            " [45.]\n",
            " [50.]\n",
            " [55.]\n",
            " [60.]]\n"
          ],
          "name": "stdout"
        }
      ]
    }
  ]
}